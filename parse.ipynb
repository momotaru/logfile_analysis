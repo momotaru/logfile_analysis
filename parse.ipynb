{
 "cells": [
  {
   "cell_type": "code",
   "execution_count": 61,
   "metadata": {},
   "outputs": [
    {
     "name": "stdout",
     "output_type": "stream",
     "text": [
      "1343\n"
     ]
    }
   ],
   "source": [
    "import pandas as pd\n",
    "import sys\n",
    "import re\n",
    "\n",
    "#fname = sys.argv[1]\n",
    "fname = '../../logfile_analysis_data/access_logs.txt'\n",
    "\n",
    "#attacker_ip = sys.argv[2]\n",
    "attarcker_ip = '112.204.10.15'\n",
    "\n",
    "log_regex = re.compile((r'(\\d+\\.\\d+\\.\\d+\\.\\d+)\\s'\n",
    "                       r'(\\S+)\\s'\n",
    "                       r'(\\S+)\\s'\n",
    "                       r'\\[(.*?)\\]\\s'\n",
    "                       r'\"(.*?)\"\\s'\n",
    "                       r'(\\S+)\\s'\n",
    "                       r'(\\S+)\\s'\n",
    "                       r'\"(.*?)\"\\s'\n",
    "                       r'\"(.*?)\"'))\n",
    "\n",
    "host_dict = {}\n",
    "count = 0\n",
    "with open(fname,'r') as infile:\n",
    "    nlines = len(list(infile))\n",
    "    infile.seek(0)\n",
    "    for i in range(0,nlines):\n",
    "        line = infile.readline()\n",
    "        found = re.match(log_regex,line)\n",
    "        if found:\n",
    "            segments = found.groups()\n",
    "        else:\n",
    "            print(line)\n",
    "        if segments[0] == attarcker_ip:\n",
    "            count = count+1\n",
    "            \n",
    "print(count)"
   ]
  }
 ],
 "metadata": {
  "kernelspec": {
   "display_name": "Python 3",
   "language": "python",
   "name": "python3"
  },
  "language_info": {
   "codemirror_mode": {
    "name": "ipython",
    "version": 3
   },
   "file_extension": ".py",
   "mimetype": "text/x-python",
   "name": "python",
   "nbconvert_exporter": "python",
   "pygments_lexer": "ipython3",
   "version": "3.6.5"
  }
 },
 "nbformat": 4,
 "nbformat_minor": 2
}
